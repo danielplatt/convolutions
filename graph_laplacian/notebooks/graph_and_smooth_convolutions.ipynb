{
 "cells": [
  {
   "cell_type": "code",
   "execution_count": 103,
   "metadata": {},
   "outputs": [],
   "source": [
    "import numpy as np\n",
    "from scipy.sparse import csgraph\n",
    "\n",
    "import matplotlib.pyplot as plt"
   ]
  },
  {
   "cell_type": "code",
   "execution_count": 104,
   "metadata": {},
   "outputs": [],
   "source": [
    "from graph_laplacian.commuting_operations_experiments import get_experiments, main"
   ]
  },
  {
   "cell_type": "code",
   "execution_count": 190,
   "metadata": {},
   "outputs": [],
   "source": [
    "def get_grid_adjaceny_matrix(n):\n",
    "    mat = np.zeros((n*n,n*n))\n",
    "    for row in range(n):\n",
    "        for col in range(n):\n",
    "            vertex_index = n*row + col\n",
    "\n",
    "            neighbour_index_dict = {}\n",
    "\n",
    "            neighbour_index_dict['right'] = n * row + (col + 1) % n\n",
    "            neighbour_index_dict['left'] = n * row + (col - 1) % n\n",
    "            neighbour_index_dict['up'] = n * ((row - 1) % n) + col\n",
    "            neighbour_index_dict['down'] = n * ((row + 1) % n) + col\n",
    "\n",
    "            for direction, neighbour_index in neighbour_index_dict.items():\n",
    "                mat[vertex_index, neighbour_index] = 1\n",
    "                mat[neighbour_index, vertex_index] = 1\n",
    "    return mat\n"
   ]
  },
  {
   "cell_type": "code",
   "execution_count": 191,
   "metadata": {},
   "outputs": [
    {
     "data": {
      "text/plain": [
       "array([[0., 1., 1., 1., 0., 0., 1., 0., 0.],\n",
       "       [1., 0., 1., 0., 1., 0., 0., 1., 0.],\n",
       "       [1., 1., 0., 0., 0., 1., 0., 0., 1.],\n",
       "       [1., 0., 0., 0., 1., 1., 1., 0., 0.],\n",
       "       [0., 1., 0., 1., 0., 1., 0., 1., 0.],\n",
       "       [0., 0., 1., 1., 1., 0., 0., 0., 1.],\n",
       "       [1., 0., 0., 1., 0., 0., 0., 1., 1.],\n",
       "       [0., 1., 0., 0., 1., 0., 1., 0., 1.],\n",
       "       [0., 0., 1., 0., 0., 1., 1., 1., 0.]])"
      ]
     },
     "execution_count": 191,
     "metadata": {},
     "output_type": "execute_result"
    }
   ],
   "source": [
    "get_grid_adjaceny_matrix(3)"
   ]
  },
  {
   "cell_type": "code",
   "execution_count": 192,
   "metadata": {},
   "outputs": [],
   "source": [
    "def discretise_function(f, resolution):\n",
    "    n = resolution\n",
    "\n",
    "    # np.fromfunction doesn't work when applied to weird functions\n",
    "    f_disc = np.empty((n, n))\n",
    "    for i in range(n):\n",
    "        for j in range(n):\n",
    "            f_disc[i][j] = f(j/n, i/n)\n",
    "\n",
    "    return f_disc\n"
   ]
  },
  {
   "cell_type": "code",
   "execution_count": 193,
   "metadata": {},
   "outputs": [],
   "source": [
    "def discrete_laplacian_eigenfunction(n, period1, period2):\n",
    "    f = np.empty((n, n), dtype=np.complex)  # important to set the dtype to complex!\n",
    "    for i in range(n):\n",
    "        for j in range(n):\n",
    "            f[i][j] = np.exp(2j * np.pi * (j * period1 / n + i * period2 / n))\n",
    "    return f / np.linalg.norm(f)  # use linalg norm to get the correct norm of compex vector"
   ]
  },
  {
   "cell_type": "code",
   "execution_count": 194,
   "metadata": {},
   "outputs": [],
   "source": [
    "x = np.random.randn(25)"
   ]
  },
  {
   "cell_type": "code",
   "execution_count": 195,
   "metadata": {},
   "outputs": [
    {
     "data": {
      "text/plain": [
       "1.0"
      ]
     },
     "execution_count": 195,
     "metadata": {},
     "output_type": "execute_result"
    }
   ],
   "source": [
    "np.linalg.norm(discrete_laplacian_eigenfunction(5, 2, 3))"
   ]
  },
  {
   "cell_type": "code",
   "execution_count": 196,
   "metadata": {},
   "outputs": [],
   "source": [
    "def get_graph_laplacian_eigenbasis(n, flavour='fourier_series'):\n",
    "    if flavour == 'fourier_series':\n",
    "        basis = []\n",
    "        for k in range(n):\n",
    "            for l in range(n):\n",
    "                basis += [discrete_laplacian_eigenfunction(n, k, l).reshape(-1)]\n",
    "        return np.array(basis)\n",
    "    elif flavour == 'scipy':\n",
    "        G = get_grid_adjaceny_matrix(n)\n",
    "        L = csgraph.laplacian(G, normed=False)\n",
    "        basis = np.transpose(np.linalg.eig(L)[1]) # after transposing rows are eigenvectors\n",
    "        return basis"
   ]
  },
  {
   "cell_type": "code",
   "execution_count": 197,
   "metadata": {},
   "outputs": [
    {
     "data": {
      "text/plain": [
       "array([[ 0.5+0.0000000e+00j,  0.5+0.0000000e+00j,  0.5+0.0000000e+00j,\n",
       "         0.5+0.0000000e+00j],\n",
       "       [ 0.5+0.0000000e+00j,  0.5+0.0000000e+00j, -0.5+6.1232340e-17j,\n",
       "        -0.5+6.1232340e-17j],\n",
       "       [ 0.5+0.0000000e+00j, -0.5+6.1232340e-17j,  0.5+0.0000000e+00j,\n",
       "        -0.5+6.1232340e-17j],\n",
       "       [ 0.5+0.0000000e+00j, -0.5+6.1232340e-17j, -0.5+6.1232340e-17j,\n",
       "         0.5-1.2246468e-16j]])"
      ]
     },
     "execution_count": 197,
     "metadata": {},
     "output_type": "execute_result"
    }
   ],
   "source": [
    "get_graph_laplacian_eigenbasis(2, flavour=\"fourier_series\")"
   ]
  },
  {
   "cell_type": "code",
   "execution_count": 198,
   "metadata": {},
   "outputs": [
    {
     "data": {
      "text/plain": [
       "array([[-5.00000000e-01,  5.00000000e-01,  5.00000000e-01,\n",
       "        -5.00000000e-01],\n",
       "       [ 5.00000000e-01,  5.00000000e-01,  5.00000000e-01,\n",
       "         5.00000000e-01],\n",
       "       [ 7.07106781e-01,  4.80181756e-16, -1.77321568e-16,\n",
       "        -7.07106781e-01],\n",
       "       [ 4.08248290e-01, -5.77350269e-01,  5.77350269e-01,\n",
       "        -4.08248290e-01]])"
      ]
     },
     "execution_count": 198,
     "metadata": {},
     "output_type": "execute_result"
    }
   ],
   "source": [
    "get_graph_laplacian_eigenbasis(2, flavour=\"scipy\")"
   ]
  },
  {
   "cell_type": "code",
   "execution_count": 199,
   "metadata": {},
   "outputs": [],
   "source": [
    "# np.dot(1j, np.conjugate(1j))\n",
    "\n",
    "# G = get_grid_adjaceny_matrix(4)\n",
    "# L = csgraph.laplacian(G, normed=False)\n",
    "# np.linalg.eig(L)"
   ]
  },
  {
   "cell_type": "code",
   "execution_count": 200,
   "metadata": {},
   "outputs": [
    {
     "data": {
      "text/plain": [
       "(array([[0, 1, 2, 3, 4],\n",
       "        [5, 6, 7, 8, 9]]),\n",
       " array([[10],\n",
       "        [20]]))"
      ]
     },
     "execution_count": 200,
     "metadata": {},
     "output_type": "execute_result"
    }
   ],
   "source": [
    "a = np.arange(10).reshape(2, 5)\n",
    "b = np.array([10, 20]).reshape(-1, 1)\n",
    "a, b"
   ]
  },
  {
   "cell_type": "code",
   "execution_count": 201,
   "metadata": {},
   "outputs": [
    {
     "data": {
      "text/plain": [
       "array([[  0,  10,  20,  30,  40],\n",
       "       [100, 120, 140, 160, 180]])"
      ]
     },
     "execution_count": 201,
     "metadata": {},
     "output_type": "execute_result"
    }
   ],
   "source": [
    "b * a#.sum(axis=0)"
   ]
  },
  {
   "cell_type": "code",
   "execution_count": 202,
   "metadata": {},
   "outputs": [],
   "source": [
    "def graph_convolve(f, g, flavour='fourier_series'):\n",
    "    assert f.shape == g.shape # input same size?\n",
    "    assert f.shape[0] == f.shape[1] # square matrix?\n",
    "    n = f.shape[0]\n",
    "\n",
    "    eigenvectors = get_graph_laplacian_eigenbasis(n, flavour)\n",
    "\n",
    "    coeffs_f = np.dot(eigenvectors.conjugate(), f.reshape(-1, 1))\n",
    "    coeffs_g = np.dot(eigenvectors.conjugate(), g.reshape(-1, 1))\n",
    "    assert coeffs_f.shape == coeffs_g.shape == (n**2, 1)\n",
    "    \n",
    "    f_conv_g = (coeffs_f * coeffs_g * eigenvectors).sum(axis = 0).reshape(n, n)\n",
    "    np.testing.assert_allclose(f_conv_g.imag, 0.0, rtol=0, atol=1e-10)\n",
    "    \n",
    "    return f_conv_g.real\n",
    "\n",
    "#     for num, v in enumerate(eigenvectors):\n",
    "#         vec = np.reshape(v, -1)\n",
    "#         proj['f'] += [np.dot(vec, np.conjugate(f))]\n",
    "#         proj['g'] += [np.dot(vec, np.conjugate(g))]\n",
    "#         proj['f_conv_g'] += [np.dot(vec, f) * np.dot(vec, g)]\n",
    "\n",
    "#     f_conv_g = [p * vec for p, vec in zip(proj['f_conv_g'], eigenvectors)]\n",
    "#     f_conv_g = np.sum(f_conv_g, axis=0)\n",
    "#     f_conv_g = np.real(f_conv_g)\n",
    "#     f_conv_g = np.reshape(f_conv_g, (n, n))"
   ]
  },
  {
   "cell_type": "code",
   "execution_count": 203,
   "metadata": {},
   "outputs": [],
   "source": [
    "def smooth_convolve(f, g, resolution):\n",
    "    n = resolution\n",
    "\n",
    "    def fg_function(x, y):\n",
    "        f_matrix = np.fromfunction(lambda i, j: f(j / n, i / n), (n, n))  # columns=x-coordinate\n",
    "        g_matrix = np.fromfunction(lambda i, j: g(j / n, i / n), (n, n))\n",
    "\n",
    "        g_matrix = np.roll(np.flip(g_matrix), 1)\n",
    "        g_matrix = np.roll(g_matrix, int(np.round(x*n)), axis=1)\n",
    "        g_matrix = np.roll(g_matrix, int(np.round(y*n)), axis=0)\n",
    "\n",
    "        fg_matrix = f_matrix * g_matrix\n",
    "\n",
    "        return np.sum(fg_matrix) / n**2\n",
    "    return fg_function\n"
   ]
  },
  {
   "cell_type": "code",
   "execution_count": 204,
   "metadata": {},
   "outputs": [],
   "source": [
    "experiment_pairs = [\n",
    "        (\n",
    "            lambda x, y: np.cos(2 * np.pi * x),\n",
    "            lambda x, y: np.cos(2 * np.pi * x) + np.cos(4 * np.pi * x)\n",
    "        ),\n",
    "        (\n",
    "            lambda x, y: np.cos(2 * np.pi * x),\n",
    "            lambda x, y: np.cos(2 * np.pi * y)\n",
    "        ),\n",
    "        (\n",
    "            lambda x, y: np.cos(2 * np.pi * x),\n",
    "            lambda x, y: np.cos(2 * np.pi * x) + np.cos(2 * np.pi * y)\n",
    "        ),\n",
    "        (\n",
    "            lambda x, y: np.cos(2 * np.pi * x),\n",
    "            lambda x, y: 1 + 0 * x\n",
    "        ),\n",
    "        (\n",
    "            lambda x, y: (x - 0.5) ** 2 + (y - 0.5) ** 2,\n",
    "            lambda x, y: np.cos(4 * np.pi * x) + np.cos(4 * np.pi * y)\n",
    "        ),\n",
    "        (\n",
    "            lambda x, y: (x - 0.5) ** 2 + (y - 0.5) ** 2,\n",
    "            lambda x, y: x + y\n",
    "        ),\n",
    "    ]"
   ]
  },
  {
   "cell_type": "code",
   "execution_count": 205,
   "metadata": {},
   "outputs": [],
   "source": [
    "def discretise_graph_convolve(f, g, n, flavour):\n",
    "    f_matrix = discretise_function(f, n)\n",
    "    g_matrix = discretise_function(g, n)\n",
    "    \n",
    "    return graph_convolve(f_matrix, g_matrix, flavour)\n",
    "\n",
    "def smooth_convolve_discretise(f, g, n, convolution_resolution):\n",
    "    \n",
    "    f_conv_g = smooth_convolve(f, g, convolution_resolution)\n",
    "    return discretise_function(f_conv_g, n)\n",
    "    "
   ]
  },
  {
   "cell_type": "code",
   "execution_count": 206,
   "metadata": {},
   "outputs": [],
   "source": [
    "def plot_discrete_function(f):\n",
    "    assert f.shape[0] == f.shape[1] # square matrix?\n",
    "    plt.imshow(f)\n",
    "    plt.colorbar()\n",
    "    plt.show()\n",
    "\n",
    "\n",
    "def plot_discrete_function_multiple(functions, rescale_minimum=1):\n",
    "    plt.figure()\n",
    "    _, axarr = plt.subplots(1, len(functions))\n",
    "\n",
    "    for num, f in enumerate(functions):\n",
    "        if isinstance(f, tuple):\n",
    "            axarr[num].set_title(f[1])\n",
    "            f = f[0]\n",
    "        f_max = max(rescale_minimum, np.max(f))\n",
    "        f_min = min(rescale_minimum, np.min(f))\n",
    "\n",
    "        axarr[num].imshow(f, vmin=f_min, vmax=f_max)\n",
    "\n",
    "    plt.show()"
   ]
  },
  {
   "cell_type": "code",
   "execution_count": 207,
   "metadata": {},
   "outputs": [
    {
     "data": {
      "text/plain": [
       "<Figure size 432x288 with 0 Axes>"
      ]
     },
     "metadata": {},
     "output_type": "display_data"
    },
    {
     "data": {
      "image/png": "[encoded data removed]",
      "text/plain": [
       "<Figure size 432x288 with 4 Axes>"
      ]
     },
     "metadata": {
      "needs_background": "light"
     },
     "output_type": "display_data"
    },
    {
     "data": {
      "text/plain": [
       "<Figure size 432x288 with 0 Axes>"
      ]
     },
     "metadata": {},
     "output_type": "display_data"
    },
    {
     "data": {
      "image/png": "[encoded data removed]",
      "text/plain": [
       "<Figure size 432x288 with 4 Axes>"
      ]
     },
     "metadata": {
      "needs_background": "light"
     },
     "output_type": "display_data"
    },
    {
     "data": {
      "text/plain": [
       "<Figure size 432x288 with 0 Axes>"
      ]
     },
     "metadata": {},
     "output_type": "display_data"
    },
    {
     "data": {
      "image/png": "[encoded data removed]",
      "text/plain": [
       "<Figure size 432x288 with 4 Axes>"
      ]
     },
     "metadata": {
      "needs_background": "light"
     },
     "output_type": "display_data"
    },
    {
     "data": {
      "text/plain": [
       "<Figure size 432x288 with 0 Axes>"
      ]
     },
     "metadata": {},
     "output_type": "display_data"
    },
    {
     "data": {
      "image/png": "[encoded data removed]",
      "text/plain": [
       "<Figure size 432x288 with 4 Axes>"
      ]
     },
     "metadata": {
      "needs_background": "light"
     },
     "output_type": "display_data"
    },
    {
     "data": {
      "text/plain": [
       "<Figure size 432x288 with 0 Axes>"
      ]
     },
     "metadata": {},
     "output_type": "display_data"
    },
    {
     "data": {
      "image/png": "[encoded data removed]",
      "text/plain": [
       "<Figure size 432x288 with 4 Axes>"
      ]
     },
     "metadata": {
      "needs_background": "light"
     },
     "output_type": "display_data"
    },
    {
     "data": {
      "text/plain": [
       "<Figure size 432x288 with 0 Axes>"
      ]
     },
     "metadata": {},
     "output_type": "display_data"
    },
    {
     "data": {
      "image/png": "[encoded data removed]",
      "text/plain": [
       "<Figure size 432x288 with 4 Axes>"
      ]
     },
     "metadata": {
      "needs_background": "light"
     },
     "output_type": "display_data"
    }
   ],
   "source": [
    "flavour = \"fourier_series\"\n",
    "experiment_pairs = get_experiments()\n",
    "n = 20  \n",
    "\n",
    "for f, g in experiment_pairs[:]:\n",
    "    path1_conv = discretise_graph_convolve(f, g, n, flavour)  # can choose 'scipy' instead\n",
    "    path2_conv = smooth_convolve_discretise(f, g, n, convolution_resolution=40)\n",
    "    \n",
    "    plot_discrete_function_multiple(\n",
    "        [\n",
    "            (discretise_function(f, n), 'f'),\n",
    "            (discretise_function(g, n), 'g'),\n",
    "            (path1_conv, 'f graph conv g'),\n",
    "            (path2_conv, 'f smooth conv g')\n",
    "        ],\n",
    "        rescale_minimum=0.0001\n",
    "    )"
   ]
  },
  {
   "cell_type": "code",
   "execution_count": 170,
   "metadata": {},
   "outputs": [],
   "source": [
    "a = np.zeros(10)"
   ]
  },
  {
   "cell_type": "code",
   "execution_count": null,
   "metadata": {},
   "outputs": [],
   "source": []
  }
 ],
 "metadata": {
  "kernelspec": {
   "display_name": "Python [conda env:no_answer] *",
   "language": "python",
   "name": "conda-env-no_answer-py"
  },
  "language_info": {
   "codemirror_mode": {
    "name": "ipython",
    "version": 3
   },
   "file_extension": ".py",
   "mimetype": "text/x-python",
   "name": "python",
   "nbconvert_exporter": "python",
   "pygments_lexer": "ipython3",
   "version": "3.7.8"
  }
 },
 "nbformat": 4,
 "nbformat_minor": 4
}
